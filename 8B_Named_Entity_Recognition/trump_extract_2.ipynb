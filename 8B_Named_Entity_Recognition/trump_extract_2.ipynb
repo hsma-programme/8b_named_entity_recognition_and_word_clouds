{
 "cells": [
  {
   "cell_type": "code",
   "execution_count": null,
   "metadata": {},
   "outputs": [],
   "source": [
    "# import spacy and the downloaded en_core_web_sm pre-trained model\n",
    "import spacy\n",
    "import en_core_web_sm\n",
    "\n",
    "# Load the pre-trained model as a language model into a variable called nlp\n",
    "nlp = en_core_web_sm.load()\n",
    "\n",
    "# Read in the document for which we want to extract named entities\n",
    "with open(\"TrumpArticle.txt\", encoding='utf8') as f:\n",
    "    # Read in the whole file as a single string but strip out any whitespace at\n",
    "    # the start and end of the file\n",
    "    raw_read = f.read().strip()\n",
    "    \n",
    "# Apply the pre-trained model to the raw text string to extract named entities\n",
    "# All of SpaCy's predictions (including the named entity predictions) are\n",
    "# stored as a Doc object.  Here, we call our Doc object 'article', but you\n",
    "# may also see it commonly named 'doc'.\n",
    "article = nlp(raw_read)\n",
    "\n",
    "# Store the Named Entity categories (stored in label_ for each entity) in the \n",
    "# article in a list. The named entities themselves are stored in article.ents\n",
    "labels = [x.label_ for x in article.ents]\n",
    "\n",
    "# Print each predicted named entity, along with its predicted category\n",
    "for i in range(len(article.ents)):\n",
    "    print (f\"{article.ents[i]} : {labels[i]}\")\n",
    "\n",
    "spacy.displacy.render(article, style=\"ent\")\n"
   ]
  }
 ],
 "metadata": {
  "kernelspec": {
   "display_name": "Python 3",
   "language": "python",
   "name": "python3"
  },
  "language_info": {
   "codemirror_mode": {
    "name": "ipython",
    "version": 3
   },
   "file_extension": ".py",
   "mimetype": "text/x-python",
   "name": "python",
   "nbconvert_exporter": "python",
   "pygments_lexer": "ipython3",
   "version": "3.7.6"
  }
 },
 "nbformat": 4,
 "nbformat_minor": 4
}
